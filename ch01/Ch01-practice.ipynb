{
 "cells": [
  {
   "cell_type": "code",
   "execution_count": 1,
   "id": "be7694c9-293c-4680-ab42-920a62ec8f41",
   "metadata": {},
   "outputs": [
    {
     "name": "stdout",
     "output_type": "stream",
     "text": [
      "[OK] Your Python version is 3.12.4 | packaged by Anaconda, Inc. | (main, Jun 18 2024, 15:03:56) [MSC v.1929 64 bit (AMD64)]\n"
     ]
    }
   ],
   "source": [
    "import sys\n",
    "sys.path.insert(0, '..')\n",
    "\n",
    "from python_environment_check import check_packages"
   ]
  },
  {
   "cell_type": "code",
   "execution_count": 2,
   "id": "1afabec4-ab37-455c-b603-fe894d8f3a04",
   "metadata": {},
   "outputs": [
    {
     "name": "stdout",
     "output_type": "stream",
     "text": [
      "[OK] numpy 1.26.4\n",
      "[OK] scipy 1.13.1\n",
      "[OK] matplotlib 3.8.4\n",
      "[OK] sklearn 1.4.2\n",
      "[OK] pandas 2.2.2\n"
     ]
    }
   ],
   "source": [
    "d = {\n",
    "    'numpy':'1.21.2',\n",
    "    'scipy':'1.7.0',\n",
    "    'matplotlib':'3.4.3',\n",
    "    'sklearn':'1.0',\n",
    "    'pandas':'1.3.2'\n",
    "}\n",
    "check_packages(d)"
   ]
  },
  {
   "cell_type": "code",
   "execution_count": null,
   "id": "1c76c6a2-f90a-49b2-a562-8567f6b3907e",
   "metadata": {},
   "outputs": [],
   "source": []
  }
 ],
 "metadata": {
  "kernelspec": {
   "display_name": "Python 3 (ipykernel)",
   "language": "python",
   "name": "python3"
  },
  "language_info": {
   "codemirror_mode": {
    "name": "ipython",
    "version": 3
   },
   "file_extension": ".py",
   "mimetype": "text/x-python",
   "name": "python",
   "nbconvert_exporter": "python",
   "pygments_lexer": "ipython3",
   "version": "3.12.4"
  }
 },
 "nbformat": 4,
 "nbformat_minor": 5
}
